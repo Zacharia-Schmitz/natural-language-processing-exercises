{
 "cells": [
  {
   "cell_type": "markdown",
   "metadata": {},
   "source": [
    "# NLP Exploration"
   ]
  },
  {
   "cell_type": "markdown",
   "metadata": {},
   "source": [
    "Exercises\n",
    "Do your work for this exercise in a file named explore.\n",
    "\n",
    "Spam Data\n",
    "\n",
    "Load the spam data set.\n",
    "Create and explore bigrams for the spam data. Visualize them with a word cloud. How do they compare with the ham bigrams?\n",
    "Is there any overlap in the bigrams for the spam data and the ham data?\n",
    "Create and explore with trigrams (i.e. a n-gram with an n of 3) for both the spam and ham data.\n",
    "Explore the blog articles using the techniques discussed in the exploration lesson.\n",
    "\n",
    "Explore the news articles using the techniques discussed in the exploration lesson. Use the category variable when exploring."
   ]
  },
  {
   "cell_type": "markdown",
   "metadata": {},
   "source": [
    "## Plan → Acquire → Prepare → Explore → Model → Deliver"
   ]
  },
  {
   "cell_type": "markdown",
   "metadata": {},
   "source": []
  }
 ],
 "metadata": {
  "language_info": {
   "name": "python"
  }
 },
 "nbformat": 4,
 "nbformat_minor": 2
}
