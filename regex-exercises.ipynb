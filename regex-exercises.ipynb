{
 "cells": [
  {
   "cell_type": "markdown",
   "metadata": {},
   "source": [
    "# Regular Expressions"
   ]
  },
  {
   "cell_type": "markdown",
   "metadata": {},
   "source": [
    "## Exercises"
   ]
  },
  {
   "cell_type": "code",
   "execution_count": 28,
   "metadata": {},
   "outputs": [],
   "source": [
    "import re"
   ]
  },
  {
   "cell_type": "markdown",
   "metadata": {},
   "source": [
    "### 1. \n",
    "Write a function named is_vowel. It should accept a string as input and use a regular expression to determine if the passed string is a vowel. While not explicity mentioned in the lesson, you can treat the result of re.search as a boolean value that indicates whether or not the regular expression matches the given string."
   ]
  },
  {
   "cell_type": "code",
   "execution_count": 29,
   "metadata": {},
   "outputs": [],
   "source": [
    "def is_vowel(string):\n",
    "    '''\n",
    "    This function accepts a string as input and uses a regular expression to determine if the passed string is a vowel.\n",
    "    '''\n",
    "    regexp = r'[aeiouAEIOU]'\n",
    "    return bool(re.search(regexp, string))"
   ]
  },
  {
   "cell_type": "code",
   "execution_count": 30,
   "metadata": {},
   "outputs": [
    {
     "data": {
      "text/plain": [
       "True"
      ]
     },
     "execution_count": 30,
     "metadata": {},
     "output_type": "execute_result"
    }
   ],
   "source": [
    "is_vowel('a')"
   ]
  },
  {
   "cell_type": "code",
   "execution_count": 31,
   "metadata": {},
   "outputs": [
    {
     "data": {
      "text/plain": [
       "False"
      ]
     },
     "execution_count": 31,
     "metadata": {},
     "output_type": "execute_result"
    }
   ],
   "source": [
    "is_vowel('b')"
   ]
  },
  {
   "cell_type": "markdown",
   "metadata": {},
   "source": [
    "### 2. \n",
    "Write a function named is_valid_username that accepts a string as input. A valid username starts with a lowercase letter, and only consists of lowercase letters, numbers, or the _ character. It should also be no longer than 32 characters. The function should return either True or False depending on whether the passed string is a valid username.\n",
    "\n",
    "```python\n",
    ">>> is_valid_username('aaaaaaaaaaaaaaaaaaaaaaaaaaaaaaaaa')\n",
    "False\n",
    ">>> is_valid_username('codeup')\n",
    "True\n",
    ">>> is_valid_username('Codeup')\n",
    "False\n",
    ">>> is_valid_username('codeup123')\n",
    "True\n",
    ">>> is_valid_username('1codeup')\n",
    "False\n",
    "```\n"
   ]
  },
  {
   "cell_type": "code",
   "execution_count": 32,
   "metadata": {},
   "outputs": [],
   "source": [
    "def is_valid_username(string):\n",
    "    '''\n",
    "    This function accepts a string as input and uses a regular expression to determine if the passed string is a valid username.\n",
    "    '''\n",
    "    regexp = r'^[a-z][a-z0-9_]{,31}$'\n",
    "    return bool(re.search(regexp, string))"
   ]
  },
  {
   "cell_type": "code",
   "execution_count": 33,
   "metadata": {},
   "outputs": [
    {
     "name": "stdout",
     "output_type": "stream",
     "text": [
      "False\n",
      "True\n",
      "False\n",
      "True\n",
      "False\n"
     ]
    }
   ],
   "source": [
    "print(is_valid_username('aaaaaaaaaaaaaaaaaaaaaaaaaaaaaaaaa'))\n",
    "\n",
    "print(is_valid_username('codeup'))\n",
    "\n",
    "print(is_valid_username('Codeup'))\n",
    "\n",
    "print(is_valid_username('codeup123'))\n",
    "\n",
    "print(is_valid_username('1codeup'))"
   ]
  },
  {
   "cell_type": "markdown",
   "metadata": {},
   "source": [
    "### 3. \n",
    "Write a regular expression to capture phone numbers. It should match all of the following:\n",
    "\n",
    "```\n",
    "(210) 867 5309\n",
    "+1 210.867.5309\n",
    "867-5309\n",
    "210-867-5309\n",
    "```\n"
   ]
  },
  {
   "cell_type": "code",
   "execution_count": null,
   "metadata": {},
   "outputs": [],
   "source": []
  },
  {
   "cell_type": "code",
   "execution_count": 34,
   "metadata": {},
   "outputs": [],
   "source": [
    "def is_valid_phone_number(string):\n",
    "    '''\n",
    "    This function accepts a string as input and uses a regular expression to determine if the passed string is a valid phone number.\n",
    "    '''\n",
    "    regexp = r'^\\+?1?\\s?\\(?\\d{3}\\)?[\\s.-]?\\d{3}[\\s.-]?\\d{4}$|^(\\d{3}[\\s.-]?)?\\d{3}[\\s.-]?\\d{4}$'\n",
    "    return bool(re.search(regexp, string))"
   ]
  },
  {
   "cell_type": "markdown",
   "metadata": {},
   "source": [
    "- `^` matches the start of the string\n",
    "- `\\+?` matches an optional plus sign\n",
    "- `1?` matches an optional 1\n",
    "- `\\s?` matches an optional whitespace character\n",
    "- `\\(?\\d{3}\\)?` matches an optional opening parenthesis, followed by three digits, followed by an optional closing parenthesis\n",
    "- `[\\s.-]?` matches an optional whitespace character, period, or hyphen\n",
    "- `\\d{3}` matches three digits\n",
    "- `[\\s.-]?` matches an optional whitespace character, period, or hyphen\n",
    "- `\\d{4}` matches four digits\n",
    "- `$` matches the end of the string\n",
    "- `|` is the OR operator\n",
    "- `(\\d{3}[\\s.-]?)?` matches an optional three-digit area code followed by a whitespace character, period, or hyphen\n",
    "- `\\d{3}` matches three digits\n",
    "- `[\\s.-]?` matches an optional whitespace character, period, or hyphen\n",
    "- `\\d{4}` matches four digits\n",
    "- `$` matches the end of the string"
   ]
  },
  {
   "cell_type": "code",
   "execution_count": 35,
   "metadata": {},
   "outputs": [
    {
     "name": "stdout",
     "output_type": "stream",
     "text": [
      "True\n",
      "True\n",
      "True\n",
      "True\n"
     ]
    }
   ],
   "source": [
    "print(is_valid_phone_number('(210) 867 5309'))\n",
    "\n",
    "print(is_valid_phone_number('+1 210.867.5309'))\n",
    "\n",
    "print(is_valid_phone_number('867-5309'))\n",
    "\n",
    "print(is_valid_phone_number('210-867-5309'))"
   ]
  },
  {
   "cell_type": "markdown",
   "metadata": {},
   "source": [
    "\n",
    "### 4. \n",
    "Use regular expressions to convert the dates below to the standardized year-month-day format.\n",
    "\n",
    "```\n",
    "02/04/19\n",
    "02/05/19\n",
    "02/06/19\n",
    "02/07/19\n",
    "02/08/19\n",
    "02/09/19\n",
    "02/10/19\n",
    "```\n"
   ]
  },
  {
   "cell_type": "code",
   "execution_count": 36,
   "metadata": {},
   "outputs": [],
   "source": [
    "def convert_date(string):\n",
    "    '''\n",
    "    This function accepts a string as input and uses a regular expression to convert the dates below to the standardized year-month-day format.\n",
    "    '''\n",
    "    regexp = r'(\\d+)/(\\d+)/(\\d+)'\n",
    "    return re.sub(regexp, r'20\\3-\\1-\\2', string)"
   ]
  },
  {
   "cell_type": "code",
   "execution_count": 37,
   "metadata": {},
   "outputs": [
    {
     "name": "stdout",
     "output_type": "stream",
     "text": [
      "2019-02-04\n",
      "2019-02-05\n",
      "2019-02-06\n",
      "2019-02-07\n",
      "2019-02-08\n",
      "2019-02-09\n",
      "2019-02-10\n"
     ]
    }
   ],
   "source": [
    "print(convert_date('02/04/19'))\n",
    "print(convert_date('02/05/19'))\n",
    "print(convert_date('02/06/19'))\n",
    "print(convert_date('02/07/19'))\n",
    "print(convert_date('02/08/19'))\n",
    "print(convert_date('02/09/19'))\n",
    "print(convert_date('02/10/19'))"
   ]
  },
  {
   "cell_type": "markdown",
   "metadata": {},
   "source": [
    "\n",
    "### 5. \n",
    "Write a regex to extract the various parts of these logfile lines:\n",
    "\n",
    "```\n",
    "GET /api/v1/sales?page=86 [16/Apr/2019:193452+0000] HTTP/1.1 {200} 510348 \"python-requests/2.21.0\" 97.105.19.58\n",
    "POST /users_accounts/file-upload [16/Apr/2019:193452+0000] HTTP/1.1 {201} 42 \"User-Agent: Mozilla/5.0 (X11; Fedora; Fedora; Linux x86_64) AppleWebKit/537.36 (KHTML, like Gecko) Chrome/73.0.3683.86 Safari/537.36\" 97.105.19.58\n",
    "GET /api/v1/items?page=3 [16/Apr/2019:193453+0000] HTTP/1.1 {429} 3561 \"python-requests/2.21.0\" 97.105.19.58\n",
    "```\n"
   ]
  },
  {
   "cell_type": "code",
   "execution_count": 74,
   "metadata": {},
   "outputs": [],
   "source": [
    "import re\n",
    "\n",
    "def extract_logfile(string):\n",
    "    '''\n",
    "    This function accepts a string as input and uses a regular expression to extract the various parts of the logfile lines.\n",
    "    '''\n",
    "    regexp = r'''\n",
    "    (?P<method>GET|POST)\n",
    "    \\s\n",
    "    (?P<path>.*?)\n",
    "    \\s\n",
    "    \\[(?P<timestamp>.*?)\\]\n",
    "    \\s\n",
    "    (?P<protocol>.*?)\n",
    "    \\s\n",
    "    \\{(?P<status>.*?)\\}\n",
    "    \\s\n",
    "    (?P<bytes_sent>.*?)\n",
    "    \\s\n",
    "    \\\"(?P<user_agent>.*?)\\\"\n",
    "    \\s\n",
    "    (?P<ip>.*?)\n",
    "    '''\n",
    "    lines = string.split('\\n')\n",
    "    results = []\n",
    "    for line in lines:\n",
    "        if line.strip():\n",
    "            results.append(re.search(regexp, line, re.VERBOSE).groupdict())\n",
    "    return results"
   ]
  },
  {
   "cell_type": "markdown",
   "metadata": {},
   "source": [
    "- `(?P<method>GET|POST)` matches the HTTP method (GET or POST) and captures it in a named group called \"method\"\n",
    "\n",
    "- `\\s` matches a whitespace character\n",
    "\n",
    "- `(?P<path>.*?)` matches the path of the requested resource and captures it in a named group called \"path\". The `.*?` matches any character (except for a newline) zero or more times, but as few times as possible.\n",
    "\n",
    "- `\\s` matches a whitespace character\n",
    "\n",
    "- `\\[(?P<timestamp>.*?)\\]` matches the timestamp of the request and captures it in a named group called \"timestamp\". The timestamp is enclosed in square brackets, and the `.*?` matches any character (except for a newline) zero or more times, but as few times as possible.\n",
    "\n",
    "- `\\s` matches a whitespace character\n",
    "\n",
    "- `(?P<protocol>.*?)` matches the protocol used in the request and captures it in a named group called \"protocol\". The `.*?` matches any character (except for a newline) zero or more times, but as few times as possible.\n",
    "\n",
    "- `\\s` matches a whitespace character\n",
    "\n",
    "- `\\{(?P<status>.*?)\\}` matches the HTTP status code and captures it in a named group called \"status\". The status code is enclosed in curly braces, and the `.*?` matches any character (except for a newline) zero or more times, but as few times as possible.\n",
    "\n",
    "- `\\s` matches a whitespace character\n",
    "\n",
    "- `(?P<bytes_sent>.*?)` matches the number of bytes sent in the response and captures it in a named group called \"bytes_sent\". The `.*?` matches any character (except for a newline) zero or more times, but as few times as possible.\n",
    "\n",
    "- `\\s` matches a whitespace character\n",
    "\n",
    "- `\\\"(?P<user_agent>.*?)\\\"` matches the user agent string and captures it in a named group called \"user_agent\". The user agent string is enclosed in double quotes, and the `.*?` matches any character (except for a newline) zero or more times, but as few times as possible.\n",
    "\n",
    "- `\\s` matches a whitespace character\n",
    "\n",
    "- `(?P<ip>.*?)` matches the IP address of the client and captures it in a named group called \"ip\". The `.*?` matches any character (except for a newline) zero or more times, but as few times as possible."
   ]
  },
  {
   "cell_type": "code",
   "execution_count": 77,
   "metadata": {},
   "outputs": [
    {
     "name": "stdout",
     "output_type": "stream",
     "text": [
      "[{'bytes_sent': '510348',\n",
      "  'ip': '',\n",
      "  'method': 'GET',\n",
      "  'path': '/api/v1/sales?page=86',\n",
      "  'protocol': 'HTTP/1.1',\n",
      "  'status': '200',\n",
      "  'timestamp': '16/Apr/2019:193452+0000',\n",
      "  'user_agent': 'python-requests/2.21.0'},\n",
      " {'bytes_sent': '42',\n",
      "  'ip': '',\n",
      "  'method': 'POST',\n",
      "  'path': '/users_accounts/file-upload',\n",
      "  'protocol': 'HTTP/1.1',\n",
      "  'status': '201',\n",
      "  'timestamp': '16/Apr/2019:193452+0000',\n",
      "  'user_agent': 'User-Agent: Mozilla/5.0 (X11; Fedora; Fedora; Linux x86_64) '\n",
      "                'AppleWebKit/537.36 (KHTML, like Gecko) Chrome/73.0.3683.86 '\n",
      "                'Safari/537.36'},\n",
      " {'bytes_sent': '3561',\n",
      "  'ip': '',\n",
      "  'method': 'GET',\n",
      "  'path': '/api/v1/items?page=3',\n",
      "  'protocol': 'HTTP/1.1',\n",
      "  'status': '429',\n",
      "  'timestamp': '16/Apr/2019:193453+0000',\n",
      "  'user_agent': 'python-requests/2.21.0'}]\n"
     ]
    }
   ],
   "source": [
    "import pprint as p\n",
    "\n",
    "log = (\n",
    "\"\"\"GET /api/v1/sales?page=86 [16/Apr/2019:193452+0000] HTTP/1.1 {200} 510348 \"python-requests/2.21.0\" 97.105.19.58\n",
    "POST /users_accounts/file-upload [16/Apr/2019:193452+0000] HTTP/1.1 {201} 42 \"User-Agent: Mozilla/5.0 (X11; Fedora; Fedora; Linux x86_64) AppleWebKit/537.36 (KHTML, like Gecko) Chrome/73.0.3683.86 Safari/537.36\" 97.105.19.58\n",
    "GET /api/v1/items?page=3 [16/Apr/2019:193453+0000] HTTP/1.1 {429} 3561 \"python-requests/2.21.0\" 97.105.19.58\"\"\"\n",
    ")\n",
    "\n",
    "extract_logfile(log)\n",
    "\n",
    "lines = log.split('\\r\\n')\n",
    "for line in lines:\n",
    "    p.pprint(extract_logfile(line))"
   ]
  },
  {
   "cell_type": "markdown",
   "metadata": {},
   "source": [
    "\n",
    "### Bonus\n",
    "You can find a list of words on your mac at /usr/share/dict/words. Use this file to answer the following questions:\n",
    "\n",
    "- How many words have at least 3 vowels?\n",
    "- How many words have at least 3 vowels in a row?\n",
    "- How many words have at least 4 consonants in a row?\n",
    "- How many words start and end with the same letter?\n",
    "- How many words start and end with a vowel?\n",
    "- How many words contain the same letter 3 times in a row?\n",
    "- What other interesting patterns in words can you find?"
   ]
  },
  {
   "cell_type": "markdown",
   "metadata": {},
   "source": [
    "## Notes During Lesson Below this Point"
   ]
  },
  {
   "attachments": {
    "image.png": {
     "image/png": "[encoded data removed]"
    }
   },
   "cell_type": "markdown",
   "metadata": {},
   "source": [
    "General NLP pipeline\n",
    "\n",
    "![Pipeline](attachment:image.png)"
   ]
  },
  {
   "cell_type": "markdown",
   "metadata": {},
   "source": [
    "1. Processing & Understanding Text\n",
    "\n",
    "2. Feature Engineering & Text Representation\n",
    "\n",
    "3. Supervised Learning Models for Text Data\n",
    "\n",
    "4. Unsupervised Learning Models for Text Data\n",
    "\n",
    "5. Advanced Topics"
   ]
  },
  {
   "attachments": {
    "image.png": {
     "image/png": "[encoded data removed]"
    }
   },
   "cell_type": "markdown",
   "metadata": {},
   "source": [
    "![image.png](attachment:image.png)"
   ]
  },
  {
   "cell_type": "markdown",
   "metadata": {},
   "source": [
    "Stemming and lemmatization are two popular techniques used in Natural Language Processing (NLP) to preprocess text data. Both techniques aim to reduce inflectional and derivational forms of words to their base or root form, but they differ in their approach.\n",
    "\n",
    "**<u>Stemming is a process of reducing a word to its base or root form by removing the suffixes.</u>**\n",
    "\n",
    "It is a rule-based approach that chops off the end of the word using heuristics, without any knowledge of the context in which the word is used. For example, the stem of the word \"running\" is \"run\", and the stem of the word \"jumps\" is \"jump\". Stemming is a faster and simpler technique compared to lemmatization, but it may not always produce a valid word.\n",
    "\n",
    "**<u>Lemmatization, on the other hand, is a process of reducing a word to its base or root form by taking into account the context in which the word is used.</u>**\n",
    "\n",
    "It uses a vocabulary and morphological analysis to obtain the base form of a word, which is called a lemma. For example, the lemma of the word \"running\" is \"run\", and the lemma of the word \"jumps\" is \"jump\". Lemmatization is a more accurate technique compared to stemming, but it is slower and more complex.\n",
    "\n",
    "Some examples to illustrate the difference between stemming and lemmatization:\n",
    "\n",
    "|Word|Stem|Lemma|\n",
    "|-|-|-|\n",
    "|running|run|run|\n",
    "|jumps|jump|jump|\n",
    "|cats|cat|cat|\n",
    "|troublesome|troubl|troublesome|\n",
    "|swimming|swim|swim|\n",
    "|dogs|dog|dog|\n",
    "|playing|play|play|\n",
    "|boxes|box|box|\n",
    "|knives|knive|knife|\n",
    "|geese|gees|goose|\n",
    "|wolves|wolv|wolf|\n",
    "|leaves|leav|leaf|\n",
    "|children|children|child|\n",
    "|sheep|sheep|sheep|\n",
    "|deer|deer|deer|\n",
    "|fish|fish|fish|\n",
    "|men|men|man|\n",
    "|women|women|woman|\n",
    "|feet|feet|foot|\n",
    "|teeth|teeth|tooth|\n",
    "|people|peopl|people|\n",
    "|oxen|oxen|ox|\n",
    "|cacti|cacti|cactus|\n",
    "|fungi|fungi|fungus|\n",
    "|criteria|criteria|criterion|\n",
    "|phenomena|phenomena|phenomenon|\n",
    "\n",
    "As you can see, stemming produces stems that may not be valid words, while lemmatization produces valid lemmas that are actual words. However, lemmatization is a more complex process that requires more computational resources compared to stemming."
   ]
  },
  {
   "cell_type": "markdown",
   "metadata": {},
   "source": [
    "This regular expression is designed to match a log line from an Apache web server access log. Here is a breakdown of the different parts of the regular expression:\n",
    "\n",
    "`(?P<ip>.*?)` - This is a named capture group that matches the IP address of the client making the request. The `.*?` matches any character (except for a newline) zero or more times, as few times as possible.\n",
    "\n",
    "`\\s` - This matches a whitespace character.\n",
    "\n",
    "`.*?\\[` - This matches any character (except for a newline) zero or more times, as few times as possible, followed by an opening square bracket.\n",
    "\n",
    "`(?P<timestamp>.*?)` - This is another named capture group that matches the timestamp of the request. The `.*?` matches any character (except for a newline) zero or more times, as few times as possible.\n",
    "\n",
    "`\\]` - This matches a closing square bracket.\n",
    "\n",
    "`\\s+\"` - This matches a whitespace character followed by a double quote.\n",
    "\n",
    "`(?P<method>[A-Z]+)` - This is a named capture group that matches the HTTP method used in the request. The `[A-Z]+` matches one or more uppercase letters.\n",
    "\n",
    "`\\s` - This matches a whitespace character.\n",
    "\n",
    "`(?P<path>.*?)` - This is a named capture group that matches the path of the requested resource. The `.*?` matches any character (except for a newline) zero or more times, as few times as possible.\n",
    "\n",
    "`\\sHTTP/1.1\"\\s` - This matches a whitespace character, followed by the string \"HTTP/1.1\", followed by a double quote and another whitespace character.\n",
    "\n",
    "`(?P<status>\\d+)` - This is a named capture group that matches the HTTP status code returned by the server. The `\\d+` matches one or more digits.\n",
    "\n",
    "`\\s` - This matches a whitespace character.\n",
    "\n",
    "`(?P<bytes_sent>\\d+)` - This is a named capture group that matches the number of bytes sent in the response. The `\\d+` matches one or more digits.\n",
    "\n",
    "`\\s\"(?P<referrer>.*?)\"\\s` - This matches a whitespace character, followed by a double quote, followed by the referrer URL (if any), followed by another double quote and a whitespace character.\n",
    "\n",
    "`\"(?P<user_agent>.*?)\"` - This is a named capture group that matches the user agent string sent by the client. The `.*?` matches any character (except for a newline) zero or more times, as few times as possible, surrounded by double quotes.\n",
    "\n",
    "Overall, this regular expression captures the IP address, timestamp, HTTP method, path, status code, bytes sent, referrer URL, and user agent string from a log line in an Apache web server access log."
   ]
  },
  {
   "cell_type": "markdown",
   "metadata": {},
   "source": [
    "Regex\n",
    "\n",
    "- What is a regular expression?\n",
    "- When are regular expressions useful?\n"
   ]
  },
  {
   "cell_type": "code",
   "execution_count": 40,
   "metadata": {},
   "outputs": [],
   "source": [
    "# %%\n",
    "import pandas as pd\n",
    "import re # part of the python stdlib"
   ]
  },
  {
   "cell_type": "code",
   "execution_count": 41,
   "metadata": {},
   "outputs": [],
   "source": [
    "\n",
    "log_file_lines = '''\n",
    "76.185.131.226 - - [11/May/2020:14:25:53 +0000] \"GET / HTTP/1.1\" 200 42 \"-\" \"python-requests/2.23.0\"\n",
    "76.185.131.226 - - [11/May/2020:16:25:46 +0000] \"GET / HTTP/1.1\" 200 42 \"-\" \"python-requests/2.23.0\"\n",
    "76.185.131.226 - - [11/May/2020:16:25:58 +0000] \"GET / HTTP/1.1\" 200 42 \"-\" \"Mozilla/5.0 (Macintosh; Intel Mac OS X 10_12_6) AppleWebKit/537.36 (KHTML, like Gecko) Chrome/81.0.4044.129 Safari/537.36\"\n",
    "76.185.131.226 - - [11/May/2020:16:25:58 +0000] \"GET /favicon.ico HTTP/1.1\" 200 162 \"https://python.zach.lol/\" \"Mozilla/5.0 (Macintosh; Intel Mac OS X 10_12_6) AppleWebKit/537.36 (KHTML, like Gecko) Chrome/81.0.4044.129 Safari/537.36\"\n",
    "104.5.217.57 - - [11/May/2020:16:26:27 +0000] \"GET / HTTP/1.1\" 200 42 \"-\" \"python-requests/2.23.0\"\n",
    "76.185.131.226 - - [11/May/2020:16:26:46 +0000] \"GET /documentation HTTP/1.1\" 200 348 \"-\" \"python-requests/2.23.0\"\n",
    "76.185.131.226 - - [11/May/2020:16:26:54 +0000] \"GET /documentation HTTP/1.1\" 200 348 \"-\" \"python-requests/2.23.0\"\n",
    "104.5.217.57 - - [11/May/2020:16:27:04 +0000] \"GET /documentation HTTP/1.1\" 200 348 \"-\" \"python-requests/2.23.0\"\n",
    "76.185.131.226 - - [11/May/2020:16:27:05 +0000] \"GET /documentation HTTP/1.1\" 200 348 \"-\" \"python-requests/2.23.0\"\n",
    "76.185.131.226 - - [11/May/2020:16:27:10 +0000] \"GET /documentation HTTP/1.1\" 200 348 \"-\" \"python-requests/2.23.0\"\n",
    "'''\n"
   ]
  },
  {
   "cell_type": "code",
   "execution_count": 42,
   "metadata": {},
   "outputs": [
    {
     "data": {
      "text/html": [
       "<div>\n",
       "<style scoped>\n",
       "    .dataframe tbody tr th:only-of-type {\n",
       "        vertical-align: middle;\n",
       "    }\n",
       "\n",
       "    .dataframe tbody tr th {\n",
       "        vertical-align: top;\n",
       "    }\n",
       "\n",
       "    .dataframe thead th {\n",
       "        text-align: right;\n",
       "    }\n",
       "</style>\n",
       "<table border=\"1\" class=\"dataframe\">\n",
       "  <thead>\n",
       "    <tr style=\"text-align: right;\">\n",
       "      <th></th>\n",
       "      <th>ip</th>\n",
       "      <th>timestamp</th>\n",
       "      <th>method</th>\n",
       "      <th>path</th>\n",
       "      <th>status</th>\n",
       "      <th>bytes_sent</th>\n",
       "      <th>referrer</th>\n",
       "      <th>user_agent</th>\n",
       "    </tr>\n",
       "  </thead>\n",
       "  <tbody>\n",
       "    <tr>\n",
       "      <th>0</th>\n",
       "      <td>76.185.131.226</td>\n",
       "      <td>11/May/2020:14:25:53 +0000</td>\n",
       "      <td>GET</td>\n",
       "      <td>/</td>\n",
       "      <td>200</td>\n",
       "      <td>42</td>\n",
       "      <td>-</td>\n",
       "      <td>python-requests/2.23.0</td>\n",
       "    </tr>\n",
       "    <tr>\n",
       "      <th>1</th>\n",
       "      <td>76.185.131.226</td>\n",
       "      <td>11/May/2020:16:25:46 +0000</td>\n",
       "      <td>GET</td>\n",
       "      <td>/</td>\n",
       "      <td>200</td>\n",
       "      <td>42</td>\n",
       "      <td>-</td>\n",
       "      <td>python-requests/2.23.0</td>\n",
       "    </tr>\n",
       "    <tr>\n",
       "      <th>2</th>\n",
       "      <td>76.185.131.226</td>\n",
       "      <td>11/May/2020:16:25:58 +0000</td>\n",
       "      <td>GET</td>\n",
       "      <td>/</td>\n",
       "      <td>200</td>\n",
       "      <td>42</td>\n",
       "      <td>-</td>\n",
       "      <td>Mozilla/5.0 (Macintosh; Intel Mac OS X 10_12_6...</td>\n",
       "    </tr>\n",
       "    <tr>\n",
       "      <th>3</th>\n",
       "      <td>76.185.131.226</td>\n",
       "      <td>11/May/2020:16:25:58 +0000</td>\n",
       "      <td>GET</td>\n",
       "      <td>/favicon.ico</td>\n",
       "      <td>200</td>\n",
       "      <td>162</td>\n",
       "      <td>https://python.zach.lol/</td>\n",
       "      <td>Mozilla/5.0 (Macintosh; Intel Mac OS X 10_12_6...</td>\n",
       "    </tr>\n",
       "    <tr>\n",
       "      <th>4</th>\n",
       "      <td>104.5.217.57</td>\n",
       "      <td>11/May/2020:16:26:27 +0000</td>\n",
       "      <td>GET</td>\n",
       "      <td>/</td>\n",
       "      <td>200</td>\n",
       "      <td>42</td>\n",
       "      <td>-</td>\n",
       "      <td>python-requests/2.23.0</td>\n",
       "    </tr>\n",
       "    <tr>\n",
       "      <th>5</th>\n",
       "      <td>76.185.131.226</td>\n",
       "      <td>11/May/2020:16:26:46 +0000</td>\n",
       "      <td>GET</td>\n",
       "      <td>/documentation</td>\n",
       "      <td>200</td>\n",
       "      <td>348</td>\n",
       "      <td>-</td>\n",
       "      <td>python-requests/2.23.0</td>\n",
       "    </tr>\n",
       "    <tr>\n",
       "      <th>6</th>\n",
       "      <td>76.185.131.226</td>\n",
       "      <td>11/May/2020:16:26:54 +0000</td>\n",
       "      <td>GET</td>\n",
       "      <td>/documentation</td>\n",
       "      <td>200</td>\n",
       "      <td>348</td>\n",
       "      <td>-</td>\n",
       "      <td>python-requests/2.23.0</td>\n",
       "    </tr>\n",
       "    <tr>\n",
       "      <th>7</th>\n",
       "      <td>104.5.217.57</td>\n",
       "      <td>11/May/2020:16:27:04 +0000</td>\n",
       "      <td>GET</td>\n",
       "      <td>/documentation</td>\n",
       "      <td>200</td>\n",
       "      <td>348</td>\n",
       "      <td>-</td>\n",
       "      <td>python-requests/2.23.0</td>\n",
       "    </tr>\n",
       "    <tr>\n",
       "      <th>8</th>\n",
       "      <td>76.185.131.226</td>\n",
       "      <td>11/May/2020:16:27:05 +0000</td>\n",
       "      <td>GET</td>\n",
       "      <td>/documentation</td>\n",
       "      <td>200</td>\n",
       "      <td>348</td>\n",
       "      <td>-</td>\n",
       "      <td>python-requests/2.23.0</td>\n",
       "    </tr>\n",
       "    <tr>\n",
       "      <th>9</th>\n",
       "      <td>76.185.131.226</td>\n",
       "      <td>11/May/2020:16:27:10 +0000</td>\n",
       "      <td>GET</td>\n",
       "      <td>/documentation</td>\n",
       "      <td>200</td>\n",
       "      <td>348</td>\n",
       "      <td>-</td>\n",
       "      <td>python-requests/2.23.0</td>\n",
       "    </tr>\n",
       "  </tbody>\n",
       "</table>\n",
       "</div>"
      ],
      "text/plain": [
       "               ip                   timestamp method            path status  \\\n",
       "0  76.185.131.226  11/May/2020:14:25:53 +0000    GET               /    200   \n",
       "1  76.185.131.226  11/May/2020:16:25:46 +0000    GET               /    200   \n",
       "2  76.185.131.226  11/May/2020:16:25:58 +0000    GET               /    200   \n",
       "3  76.185.131.226  11/May/2020:16:25:58 +0000    GET    /favicon.ico    200   \n",
       "4    104.5.217.57  11/May/2020:16:26:27 +0000    GET               /    200   \n",
       "5  76.185.131.226  11/May/2020:16:26:46 +0000    GET  /documentation    200   \n",
       "6  76.185.131.226  11/May/2020:16:26:54 +0000    GET  /documentation    200   \n",
       "7    104.5.217.57  11/May/2020:16:27:04 +0000    GET  /documentation    200   \n",
       "8  76.185.131.226  11/May/2020:16:27:05 +0000    GET  /documentation    200   \n",
       "9  76.185.131.226  11/May/2020:16:27:10 +0000    GET  /documentation    200   \n",
       "\n",
       "  bytes_sent                  referrer  \\\n",
       "0         42                         -   \n",
       "1         42                         -   \n",
       "2         42                         -   \n",
       "3        162  https://python.zach.lol/   \n",
       "4         42                         -   \n",
       "5        348                         -   \n",
       "6        348                         -   \n",
       "7        348                         -   \n",
       "8        348                         -   \n",
       "9        348                         -   \n",
       "\n",
       "                                          user_agent  \n",
       "0                             python-requests/2.23.0  \n",
       "1                             python-requests/2.23.0  \n",
       "2  Mozilla/5.0 (Macintosh; Intel Mac OS X 10_12_6...  \n",
       "3  Mozilla/5.0 (Macintosh; Intel Mac OS X 10_12_6...  \n",
       "4                             python-requests/2.23.0  \n",
       "5                             python-requests/2.23.0  \n",
       "6                             python-requests/2.23.0  \n",
       "7                             python-requests/2.23.0  \n",
       "8                             python-requests/2.23.0  \n",
       "9                             python-requests/2.23.0  "
      ]
     },
     "execution_count": 42,
     "metadata": {},
     "output_type": "execute_result"
    }
   ],
   "source": [
    "\n",
    "regex = r'(?P<ip>.*?)\\s.*?\\[(?P<timestamp>.*?)\\]\\s+\"(?P<method>[A-Z]+)\\s(?P<path>.*?)\\sHTTP/1.1\"\\s(?P<status>\\d+)\\s(?P<bytes_sent>\\d+)\\s\"(?P<referrer>.*?)\"\\s\"(?P<user_agent>.*?)\"'\n",
    "regex = re.compile(regex,re.VERBOSE)\n",
    "\n",
    "lines = pd.Series(log_file_lines.strip().split('\\n'))\n",
    "lines.str.extract(regex)\n"
   ]
  },
  {
   "cell_type": "markdown",
   "metadata": {},
   "source": [
    "\n",
    "- search: shows a single match for a regex\n",
    "- findall: shows *all* the matches for a regex in a subject\n"
   ]
  },
  {
   "cell_type": "code",
   "execution_count": 43,
   "metadata": {},
   "outputs": [],
   "source": [
    "regexp = r'a'\n",
    "subject = 'abc'"
   ]
  },
  {
   "cell_type": "markdown",
   "metadata": {},
   "source": [
    "\n",
    "<div style=\"background-color: rgba(0, 100, 200, .1); padding: 1em 3em; border-radius: 5px; border: 1px solid black\">\n",
    "    <div style=\"font-weight: bold; font-size: 1.2em; border-bottom: 1px dashed black; padding-bottom: .5em;\">\n",
    "        Mini Exercise\n",
    "    </div>\n",
    "    <ol>\n",
    "        <li>Change your regular expression to match the literal character \"b\". What do you notice?</li>\n",
    "        <li>Change your regular expression to match the literal string \"ab\". What do you notice?</li>\n",
    "        <li>Change your regular expression to match the literal \"d\". What do you notice?</li>\n",
    "        <li>Use <code>re.findall</code> instead of <code>re.search</code>. How do the results differ?</li>\n",
    "    </ol>\n",
    "</div>\n"
   ]
  },
  {
   "cell_type": "code",
   "execution_count": 44,
   "metadata": {},
   "outputs": [
    {
     "data": {
      "text/plain": [
       "<re.Match object; span=(1, 2), match='b'>"
      ]
     },
     "execution_count": 44,
     "metadata": {},
     "output_type": "execute_result"
    }
   ],
   "source": [
    "# Change your regular expression to match the literal character \"b\". What do you notice?\n",
    "regexp = r'b'\n",
    "re.search(regexp, subject)"
   ]
  },
  {
   "cell_type": "code",
   "execution_count": 45,
   "metadata": {},
   "outputs": [
    {
     "data": {
      "text/plain": [
       "<re.Match object; span=(0, 2), match='ab'>"
      ]
     },
     "execution_count": 45,
     "metadata": {},
     "output_type": "execute_result"
    }
   ],
   "source": [
    "# Change your regular expression to match the literal string \"ab\". What do you notice?\n",
    "regexp = r'ab'\n",
    "re.search(regexp, subject)"
   ]
  },
  {
   "cell_type": "code",
   "execution_count": 46,
   "metadata": {},
   "outputs": [],
   "source": [
    "# Change your regular expression to match the literal \"d\". What do you notice?\n",
    "regexp = r'd'\n",
    "re.search(regexp, subject)"
   ]
  },
  {
   "cell_type": "code",
   "execution_count": 47,
   "metadata": {},
   "outputs": [
    {
     "data": {
      "text/plain": [
       "['a', 'a']"
      ]
     },
     "execution_count": 47,
     "metadata": {},
     "output_type": "execute_result"
    }
   ],
   "source": [
    "# Use re.findall instead of re.search. How do the results differ?\n",
    "subject = 'abca'\n",
    "\n",
    "regexp = r'a'\n",
    "re.findall(regexp, subject)"
   ]
  },
  {
   "cell_type": "markdown",
   "metadata": {},
   "source": [
    "\n",
    "### Metacharacters\n",
    "\n",
    "- `.`\n",
    "- `\\w`: any letter or number; `\\W` anything that is *not* a letter or number (Word Character)\n",
    "- `\\s`: any whitespace character; `\\S` anything that is *not* a whitespace character (Space)\n",
    "- `\\d`: any digit; `\\D` anything that is *not* a digit (Digit)"
   ]
  },
  {
   "cell_type": "markdown",
   "metadata": {},
   "source": [
    "\n",
    "<div style=\"background-color: rgba(0, 100, 200, .1); padding: 1em 3em; border-radius: 5px; border: 1px solid black\">\n",
    "    <div style=\"font-weight: bold; font-size: 1.2em; border-bottom: 1px dashed black; padding-bottom: .5em;\">\n",
    "        Mini Exercise\n",
    "    </div>\n",
    "    <p>Continue to use the same subject variable from above.</p>\n",
    "    <ol>\n",
    "        <li>Use all of the above metacharacters with <code>re.findall</code>. What do you notice?</li>\n",
    "        <li>What does the regular expression <code>\\w\\w</code> match?</li>\n",
    "        <li>Use only metacharacters to write a regular expression to match \"c 1\".</li>\n",
    "        <li>Use a combination of metacharacters to match 3 digits in a row.</li>\n",
    "    </ol>\n",
    "</div>"
   ]
  },
  {
   "cell_type": "code",
   "execution_count": 48,
   "metadata": {},
   "outputs": [],
   "source": [
    "subject = 'abc123'"
   ]
  },
  {
   "cell_type": "code",
   "execution_count": 49,
   "metadata": {},
   "outputs": [
    {
     "data": {
      "text/plain": [
       "[]"
      ]
     },
     "execution_count": 49,
     "metadata": {},
     "output_type": "execute_result"
    }
   ],
   "source": [
    "# Use all of the above metacharacters with re.findall. What do you notice?\n",
    "\n",
    "regexp = r'\\w\\s\\d'\n",
    "\n",
    "re.findall(regexp, subject)"
   ]
  },
  {
   "cell_type": "code",
   "execution_count": 50,
   "metadata": {},
   "outputs": [
    {
     "data": {
      "text/plain": [
       "['ab', 'c1', '23']"
      ]
     },
     "execution_count": 50,
     "metadata": {},
     "output_type": "execute_result"
    }
   ],
   "source": [
    "# What does the regular expression \\w\\w match?\n",
    "\n",
    "regexp = r'\\w\\w'\n",
    "\n",
    "re.findall(regexp, subject)"
   ]
  },
  {
   "cell_type": "code",
   "execution_count": 51,
   "metadata": {},
   "outputs": [
    {
     "data": {
      "text/plain": [
       "['c1']"
      ]
     },
     "execution_count": 51,
     "metadata": {},
     "output_type": "execute_result"
    }
   ],
   "source": [
    "# Use only metacharacters to write a regular expression to match \"c1\"\n",
    "\n",
    "regexp = r'\\D\\d'\n",
    "\n",
    "re.findall(regexp, subject)"
   ]
  },
  {
   "cell_type": "code",
   "execution_count": 52,
   "metadata": {},
   "outputs": [
    {
     "data": {
      "text/plain": [
       "['123']"
      ]
     },
     "execution_count": 52,
     "metadata": {},
     "output_type": "execute_result"
    }
   ],
   "source": [
    "# Use a combination of metacharacters to match 3 digits in a row.\n",
    "\n",
    "regexp = r'\\d\\d\\d'\n",
    "\n",
    "re.findall(regexp, subject)"
   ]
  },
  {
   "cell_type": "markdown",
   "metadata": {},
   "source": [
    "\n",
    "### Repeating\n",
    "\n",
    "- `{}`: custom number of repititions\n",
    "    - `{x}`: exactly x repititions\n",
    "    - `{x,}`: x or more\n",
    "    - `{x,y}`: between x and y repititions\n",
    "- `*`: zero or more\n",
    "- `+`: one or more\n",
    "- `?`: optional\n",
    "- `?`: greedy + non-greedy\n"
   ]
  },
  {
   "cell_type": "markdown",
   "metadata": {},
   "source": [
    "\n",
    "<div style=\"background-color: rgba(0, 100, 200, .1); padding: 1em 3em; border-radius: 5px; border: 1px solid black\">\n",
    "    <div style=\"font-weight: bold; font-size: 1.2em; border-bottom: 1px dashed black; padding-bottom: .5em;\">\n",
    "        Mini Exercise\n",
    "    </div>\n",
    "    <p>Use the string below as your subject for this exercise.</p>\n",
    "    <pre><code>Codeup, founded in 2014, is located at 600 Navarro St. Suite 350, San Antonio, TX 78230. You can find us online at http://codeup.com and our alumni portal is located at https://alumni.codeup.com.</code></pre>\n",
    "    <ol>\n",
    "        <li>Write a regular expression that matches all the numbers.</li>\n",
    "        <li>Write a regular expression that matches a 5 digit number, but not a number with fewer digits.</li>\n",
    "        <li>Write a regular expression that matches `http://` or `https://`.</li>\n",
    "        <li>Write a regular expression that matches all of the words.</li>\n",
    "    </ol>\n",
    "</div>\n"
   ]
  },
  {
   "cell_type": "code",
   "execution_count": 53,
   "metadata": {},
   "outputs": [],
   "source": [
    "subject = (\n",
    "    'Codeup, founded in 2014, is located at 600 Navarro St. Suite 350, '\n",
    "    'San Antonio, TX 78230. You can find us online at http://codeup.com '\n",
    "    'and our alumni portal is located at https://alumni.codeup.com. '\n",
    "    \"It's a great school!\"\n",
    ")"
   ]
  },
  {
   "cell_type": "code",
   "execution_count": 54,
   "metadata": {},
   "outputs": [
    {
     "data": {
      "text/plain": [
       "['2014', '600', '350', '78230']"
      ]
     },
     "execution_count": 54,
     "metadata": {},
     "output_type": "execute_result"
    }
   ],
   "source": [
    "# Write a regular expression that matches all the numbers.\n",
    "re.findall(r'\\d+', subject)"
   ]
  },
  {
   "cell_type": "code",
   "execution_count": 55,
   "metadata": {},
   "outputs": [
    {
     "data": {
      "text/plain": [
       "['78230']"
      ]
     },
     "execution_count": 55,
     "metadata": {},
     "output_type": "execute_result"
    }
   ],
   "source": [
    "# Write a regular expression that matches a 5 digit number, but not a number with fewer digits.\n",
    "re.findall(r'\\d{5}', subject)"
   ]
  },
  {
   "cell_type": "code",
   "execution_count": 56,
   "metadata": {},
   "outputs": [
    {
     "data": {
      "text/plain": [
       "['http://', 'https://']"
      ]
     },
     "execution_count": 56,
     "metadata": {},
     "output_type": "execute_result"
    }
   ],
   "source": [
    "# Write a regular expression that matches `http://` and `https://`.\n",
    "re.findall(r'https?://', subject)"
   ]
  },
  {
   "cell_type": "code",
   "execution_count": 57,
   "metadata": {},
   "outputs": [
    {
     "data": {
      "text/plain": [
       "['Codeup, founded in ',\n",
       " ', is located at ',\n",
       " ' Navarro St',\n",
       " ' Suite ',\n",
       " ', San Antonio, TX ',\n",
       " ' You can find us online at http',\n",
       " 'codeup',\n",
       " 'com and our alumni portal is located at https',\n",
       " 'alumni',\n",
       " 'codeup',\n",
       " 'com',\n",
       " ' It',\n",
       " 's a great school']"
      ]
     },
     "execution_count": 57,
     "metadata": {},
     "output_type": "execute_result"
    }
   ],
   "source": [
    "# Write a regular expression that matches all of the words individually but no numbers\n",
    "re.findall(r'[A-Z, a-z]+', subject)"
   ]
  },
  {
   "cell_type": "markdown",
   "metadata": {},
   "source": [
    "\n",
    "### Any/None Of\n"
   ]
  },
  {
   "cell_type": "markdown",
   "metadata": {},
   "source": [
    "\n",
    "<div style=\"background-color: rgba(0, 100, 200, .1); padding: 1em 3em; border-radius: 5px; border: 1px solid black\">\n",
    "    <div style=\"font-weight: bold; font-size: 1.2em; border-bottom: 1px dashed black; padding-bottom: .5em;\">\n",
    "        Mini Exercise\n",
    "    </div>\n",
    "    <p>For this exercise you should make up various subjects and test them with your regular expressions.</p>\n",
    "    <ol>\n",
    "        <li>Write a regular expression that matches even numbers.</li>\n",
    "        <li>Write a regular expression that matches 2 or more odd numbers in a row.</li>\n",
    "        <li>Write a regular expression that any word with a vowel in it.</li>\n",
    "    </ol>\n",
    "</div>\n"
   ]
  },
  {
   "cell_type": "code",
   "execution_count": 58,
   "metadata": {},
   "outputs": [],
   "source": [
    "subject = (\n",
    "    'Codeup, founded in 2014, is located at 600 Navarro St. Suite 350, '\n",
    "    'San Antonio, TX 78230. You can find us online at http://codeup.com '\n",
    "    'and our alumni portal is located at https://alumni.codeup.com. '\n",
    "    \"It's a great school! Odd number here: 7009\"\n",
    ")"
   ]
  },
  {
   "cell_type": "markdown",
   "metadata": {},
   "source": [
    "Not right"
   ]
  },
  {
   "cell_type": "code",
   "execution_count": 59,
   "metadata": {},
   "outputs": [
    {
     "data": {
      "text/plain": [
       "['2014', '600', '350', '78230', '700']"
      ]
     },
     "execution_count": 59,
     "metadata": {},
     "output_type": "execute_result"
    }
   ],
   "source": [
    "# Write a regular expression that matches even numbers.\n",
    "re.findall(r'\\d*[24680]', subject)"
   ]
  },
  {
   "cell_type": "code",
   "execution_count": 60,
   "metadata": {},
   "outputs": [
    {
     "data": {
      "text/plain": [
       "['35']"
      ]
     },
     "execution_count": 60,
     "metadata": {},
     "output_type": "execute_result"
    }
   ],
   "source": [
    "# Write a regular expression that matches 2 or more odd numbers in a row.\n",
    "re.findall(r'\\d*[13579]{2,}', subject)"
   ]
  },
  {
   "cell_type": "code",
   "execution_count": 61,
   "metadata": {},
   "outputs": [
    {
     "data": {
      "text/plain": [
       "['Codeup',\n",
       " 'founded',\n",
       " 'in',\n",
       " 'is',\n",
       " 'located',\n",
       " 'at',\n",
       " 'Navarro',\n",
       " 'Suite',\n",
       " 'San',\n",
       " 'Antonio',\n",
       " 'You',\n",
       " 'can',\n",
       " 'find',\n",
       " 'us',\n",
       " 'online',\n",
       " 'at',\n",
       " 'codeup',\n",
       " 'com',\n",
       " 'and',\n",
       " 'our',\n",
       " 'alumni',\n",
       " 'portal',\n",
       " 'is',\n",
       " 'located',\n",
       " 'at',\n",
       " 'alumni',\n",
       " 'codeup',\n",
       " 'com',\n",
       " 'It',\n",
       " 'a',\n",
       " 'great',\n",
       " 'school',\n",
       " 'Odd',\n",
       " 'number',\n",
       " 'here']"
      ]
     },
     "execution_count": 61,
     "metadata": {},
     "output_type": "execute_result"
    }
   ],
   "source": [
    "# Write a regular expression that any word with a vowel in it.\n",
    "re.findall(r'[A-Za-z]*[aeiouAEIOU]+[A-Za-z]*', subject)"
   ]
  },
  {
   "cell_type": "markdown",
   "metadata": {},
   "source": [
    "\n",
    "### Anchors\n",
    "\n",
    "- `^`: starts with\n",
    "- `$`: ends with\n",
    "- `\\b`: word boundary"
   ]
  },
  {
   "cell_type": "markdown",
   "metadata": {},
   "source": [
    "- `^`: The caret symbol `^` matches the start of a string. When used at the beginning of a regular expression, it matches the start of the string. For example, the regular expression `^hello` matches any string that starts with the word \"hello\".\n",
    "\n",
    "- `$`: The dollar sign `$` matches the end of a string. When used at the end of a regular expression, it matches the end of the string. For example, the regular expression `world$` matches any string that ends with the word \"world\".\n",
    "\n",
    "- `\\b`: The word boundary `\\b` matches the position between a word character (as defined by `\\w`) and a non-word character (as defined by `\\W`). It can be used to match the beginning or end of a word. For example, the regular expression `\\bhello\\b` matches the word \"hello\" only when it appears as a separate word, not as part of another word."
   ]
  },
  {
   "cell_type": "markdown",
   "metadata": {},
   "source": [
    "\n",
    "<div style=\"background-color: rgba(0, 100, 200, .1); padding: 1em 3em; border-radius: 5px; border: 1px solid black\">\n",
    "    <div style=\"font-weight: bold; font-size: 1.2em; border-bottom: 1px dashed black; padding-bottom: .5em;\">\n",
    "        Mini Exercise\n",
    "    </div>\n",
    "    <p>For this exercise you should make up various subjects and test them with your regular expressions.</p>\n",
    "    <ol>\n",
    "        <li>Write a regular expression that matches if a word starts with a vowel.</li>\n",
    "        <li>Write a regular expression that matches if a word starts with a capital letter.</li>\n",
    "        <li>Write a regular expression that matches if a word ends with a capital letter.</li>        \n",
    "        <li>Write a regular expression that matches if a word starts <b>and</b> ends with a capital letter.</li>\n",
    "    </ol>\n",
    "</div>"
   ]
  },
  {
   "cell_type": "code",
   "execution_count": 62,
   "metadata": {},
   "outputs": [],
   "source": [
    "subject = (\n",
    "    'Codeup, founded in 2014, is located at 600 NavarrO St. Suite 350, '\n",
    "    'San Antonio, TX 78230. You can find us online at http://codeup.com '\n",
    "    'and our alumni portal is locateD at https://alumni.codeup.com. '\n",
    "    \"It's a great school! Odd number here: 7009\"\n",
    ")"
   ]
  },
  {
   "cell_type": "code",
   "execution_count": 63,
   "metadata": {},
   "outputs": [
    {
     "data": {
      "text/plain": [
       "['in',\n",
       " 'is',\n",
       " 'at',\n",
       " 'Antonio',\n",
       " 'us',\n",
       " 'online',\n",
       " 'at',\n",
       " 'and',\n",
       " 'our',\n",
       " 'alumni',\n",
       " 'is',\n",
       " 'at',\n",
       " 'alumni',\n",
       " 'It',\n",
       " 'a',\n",
       " 'Odd']"
      ]
     },
     "execution_count": 63,
     "metadata": {},
     "output_type": "execute_result"
    }
   ],
   "source": [
    "# Write a regular expression that matches if a word starts with a vowel.\n",
    "re.findall(r'\\b[aeiouAEIOU][A-Za-z]*', subject)"
   ]
  },
  {
   "cell_type": "code",
   "execution_count": 64,
   "metadata": {},
   "outputs": [
    {
     "data": {
      "text/plain": [
       "['Codeup',\n",
       " 'NavarrO',\n",
       " 'St',\n",
       " 'Suite',\n",
       " 'San',\n",
       " 'Antonio',\n",
       " 'TX',\n",
       " 'You',\n",
       " 'It',\n",
       " 'Odd']"
      ]
     },
     "execution_count": 64,
     "metadata": {},
     "output_type": "execute_result"
    }
   ],
   "source": [
    "# Write a regular expression that matches if a word starts with a capital letter.\n",
    "re.findall(r'\\b[A-Z]\\w*', subject)"
   ]
  },
  {
   "cell_type": "markdown",
   "metadata": {
    "tags": []
   },
   "source": [
    "print('test')"
   ]
  },
  {
   "cell_type": "code",
   "execution_count": 65,
   "metadata": {},
   "outputs": [
    {
     "data": {
      "text/plain": [
       "['NavarrO', 'TX', 'locateD']"
      ]
     },
     "execution_count": 65,
     "metadata": {},
     "output_type": "execute_result"
    }
   ],
   "source": [
    "# Write a regular expression that matches if a word ends with a capital letter.        \n",
    "re.findall(r'\\b\\w*[A-Z]\\b', subject)"
   ]
  },
  {
   "cell_type": "code",
   "execution_count": 66,
   "metadata": {},
   "outputs": [
    {
     "data": {
      "text/plain": [
       "['NavarrO', 'TX']"
      ]
     },
     "execution_count": 66,
     "metadata": {},
     "output_type": "execute_result"
    }
   ],
   "source": [
    "# Write a regular expression that matches if a word starts and ends with a capital letter.\n",
    "re.findall(r'\\b[A-Z]\\w*[A-Z]\\b', subject)"
   ]
  },
  {
   "cell_type": "markdown",
   "metadata": {},
   "source": [
    "\n",
    "### Capture Groups\n"
   ]
  },
  {
   "cell_type": "markdown",
   "metadata": {},
   "source": [
    "\n",
    "`re.sub`\n",
    "\n"
   ]
  },
  {
   "cell_type": "markdown",
   "metadata": {},
   "source": [
    "- removing\n",
    "- substitution"
   ]
  },
  {
   "cell_type": "markdown",
   "metadata": {},
   "source": [
    "\n",
    "<div style=\"background-color: rgba(0, 100, 200, .1); padding: 1em 3em; border-radius: 5px; border: 1px solid black\">\n",
    "    <div style=\"font-weight: bold; font-size: 1.2em; border-bottom: 1px dashed black; padding-bottom: .5em;\">\n",
    "        Mini Exercise\n",
    "    </div>\n",
    "    <p>Use the code below to get started on this exercise.</p>\n",
    "    <pre><code>dates = pd.Series(['2020-11-12', '2020-07-13', '2021-01-12'])</code></pre>\n",
    "    <p>Use regular expression substitution to reformat the dates in the format common in the US: m/d/y.</p>\n",
    "</div>\n"
   ]
  },
  {
   "cell_type": "markdown",
   "metadata": {},
   "source": [
    "\n",
    "Misc\n"
   ]
  },
  {
   "cell_type": "markdown",
   "metadata": {},
   "source": [
    "\n",
    "### Pandas Usage\n",
    "\n",
    "- `.str`\n",
    "    - `.extract`\n",
    "    - `.count`\n",
    "    - `.contains`\n",
    "    - `.replace`\n",
    "- extract + concat\n",
    "- named groups\n"
   ]
  },
  {
   "cell_type": "code",
   "execution_count": 67,
   "metadata": {},
   "outputs": [],
   "source": [
    "\n",
    "df = pd.DataFrame()\n",
    "df['text'] = pd.Series([\n",
    "    'You should go check out https://regex101.com, it is a great website!',\n",
    "    'My favorite search engine is https://duckduckgo.com',\n",
    "    'If you have a question, you can get it answered through http://askjeeves.com, it is great!',\n",
    "])\n",
    "\n"
   ]
  },
  {
   "cell_type": "markdown",
   "metadata": {},
   "source": [
    "\n",
    "### Interactive Regex Tool\n",
    "\n",
    "To install the `hlre` tool:\n",
    "\n",
    "```\n",
    "python -m pip install hlre\n",
    "```\n",
    "\n",
    "[For more documentation and the source](https://github.com/zgulde/hlre)\n",
    "\n",
    "See also [regex101](https://regex101.com) (make sure to select the Python flavor)\n"
   ]
  },
  {
   "cell_type": "markdown",
   "metadata": {},
   "source": [
    "\n",
    "### Named capture groups\n"
   ]
  },
  {
   "cell_type": "code",
   "execution_count": 68,
   "metadata": {},
   "outputs": [
    {
     "data": {
      "text/plain": [
       "{'protocol': 'https', 'base_domain': 'regex101', 'tld': 'com'}"
      ]
     },
     "execution_count": 68,
     "metadata": {},
     "output_type": "execute_result"
    }
   ],
   "source": [
    "\n",
    "text = 'You should go check out https://regex101.com, it is a great website!'\n",
    "\n",
    "match = re.search(r'(?P<protocol>https?)://(?P<base_domain>\\w+)\\.(?P<tld>\\w+)', text)\n",
    "match.groupdict()\n"
   ]
  },
  {
   "cell_type": "code",
   "execution_count": 69,
   "metadata": {},
   "outputs": [
    {
     "data": {
      "text/html": [
       "<div>\n",
       "<style scoped>\n",
       "    .dataframe tbody tr th:only-of-type {\n",
       "        vertical-align: middle;\n",
       "    }\n",
       "\n",
       "    .dataframe tbody tr th {\n",
       "        vertical-align: top;\n",
       "    }\n",
       "\n",
       "    .dataframe thead th {\n",
       "        text-align: right;\n",
       "    }\n",
       "</style>\n",
       "<table border=\"1\" class=\"dataframe\">\n",
       "  <thead>\n",
       "    <tr style=\"text-align: right;\">\n",
       "      <th></th>\n",
       "      <th>protocol</th>\n",
       "      <th>base_domain</th>\n",
       "      <th>tld</th>\n",
       "    </tr>\n",
       "  </thead>\n",
       "  <tbody>\n",
       "    <tr>\n",
       "      <th>0</th>\n",
       "      <td>https</td>\n",
       "      <td>regex101</td>\n",
       "      <td>com</td>\n",
       "    </tr>\n",
       "    <tr>\n",
       "      <th>1</th>\n",
       "      <td>https</td>\n",
       "      <td>duckduckgo</td>\n",
       "      <td>com</td>\n",
       "    </tr>\n",
       "    <tr>\n",
       "      <th>2</th>\n",
       "      <td>http</td>\n",
       "      <td>askjeeves</td>\n",
       "      <td>com</td>\n",
       "    </tr>\n",
       "  </tbody>\n",
       "</table>\n",
       "</div>"
      ],
      "text/plain": [
       "  protocol base_domain  tld\n",
       "0    https    regex101  com\n",
       "1    https  duckduckgo  com\n",
       "2     http   askjeeves  com"
      ]
     },
     "execution_count": 69,
     "metadata": {},
     "output_type": "execute_result"
    }
   ],
   "source": [
    "\n",
    "df.text.str.extract(r'(?P<protocol>https?)://(?P<base_domain>\\w+)\\.(?P<tld>\\w+)')\n"
   ]
  },
  {
   "cell_type": "markdown",
   "metadata": {},
   "source": [
    "\n",
    "### Verbose regular expressions\n"
   ]
  },
  {
   "cell_type": "markdown",
   "metadata": {},
   "source": [
    "\n",
    "- `re.VERBOSE`\n",
    "- `(?# this is a comment)`\n"
   ]
  },
  {
   "cell_type": "code",
   "execution_count": 70,
   "metadata": {},
   "outputs": [
    {
     "data": {
      "text/plain": [
       "{'protocol': 'https', 'base_domain': 'regex101', 'tld': 'com'}"
      ]
     },
     "execution_count": 70,
     "metadata": {},
     "output_type": "execute_result"
    }
   ],
   "source": [
    "text = 'You should go check out https://regex101.com, it is a great website!'\n",
    "\n",
    "regexp = r'''\n",
    "(?P<protocol>https?)\n",
    ":// (?# ignore the :// that seperates protocol from domain)\n",
    "(?P<base_domain>\\w+)\n",
    "\\.\n",
    "(?P<tld>\\w+)\n",
    "'''\n",
    "match = re.search(regexp, text, re.VERBOSE) # whitespace in the regex is ignored\n",
    "match.groupdict()"
   ]
  }
 ],
 "metadata": {
  "kernelspec": {
   "display_name": "base",
   "language": "python",
   "name": "python3"
  },
  "language_info": {
   "codemirror_mode": {
    "name": "ipython",
    "version": 3
   },
   "file_extension": ".py",
   "mimetype": "text/x-python",
   "name": "python",
   "nbconvert_exporter": "python",
   "pygments_lexer": "ipython3",
   "version": "3.11.4"
  }
 },
 "nbformat": 4,
 "nbformat_minor": 2
}
